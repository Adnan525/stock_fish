{
 "cells": [
  {
   "cell_type": "code",
   "execution_count": 1,
   "id": "1b8ffde0",
   "metadata": {},
   "outputs": [
    {
     "name": "stdout",
     "output_type": "stream",
     "text": [
      "Collecting stockfish\n",
      "  Downloading stockfish-3.28.0-py3-none-any.whl (13 kB)\n",
      "Installing collected packages: stockfish\n",
      "Successfully installed stockfish-3.28.0\n",
      "\u001b[33mWARNING: Running pip as the 'root' user can result in broken permissions and conflicting behaviour with the system package manager. It is recommended to use a virtual environment instead: https://pip.pypa.io/warnings/venv\u001b[0m\u001b[33m\n",
      "\u001b[0m\n",
      "\u001b[1m[\u001b[0m\u001b[34;49mnotice\u001b[0m\u001b[1;39;49m]\u001b[0m\u001b[39;49m A new release of pip is available: \u001b[0m\u001b[31;49m23.0.1\u001b[0m\u001b[39;49m -> \u001b[0m\u001b[32;49m24.0\u001b[0m\n",
      "\u001b[1m[\u001b[0m\u001b[34;49mnotice\u001b[0m\u001b[1;39;49m]\u001b[0m\u001b[39;49m To update, run: \u001b[0m\u001b[32;49mpip install --upgrade pip\u001b[0m\n"
     ]
    }
   ],
   "source": [
    "!pip install stockfish"
   ]
  },
  {
   "cell_type": "code",
   "execution_count": 8,
   "id": "9da0fd84",
   "metadata": {},
   "outputs": [],
   "source": [
    "from stockfish import Stockfish\n",
    "\n",
    "stockfish = Stockfish(\"/app/stockfish/stockfish-ubuntu-x86-64-avx2\")"
   ]
  },
  {
   "cell_type": "code",
   "execution_count": 9,
   "id": "b420fc3a",
   "metadata": {},
   "outputs": [
    {
     "data": {
      "text/plain": [
       "'e2e4'"
      ]
     },
     "execution_count": 9,
     "metadata": {},
     "output_type": "execute_result"
    }
   ],
   "source": [
    "stockfish.get_best_move()"
   ]
  },
  {
   "cell_type": "code",
   "execution_count": 10,
   "id": "7b50f535",
   "metadata": {},
   "outputs": [
    {
     "name": "stdout",
     "output_type": "stream",
     "text": [
      "+---+---+---+---+---+---+---+---+\n",
      "| r | n | b | q | k | b | n | r | 8\n",
      "+---+---+---+---+---+---+---+---+\n",
      "| p | p | p | p | p | p | p | p | 7\n",
      "+---+---+---+---+---+---+---+---+\n",
      "|   |   |   |   |   |   |   |   | 6\n",
      "+---+---+---+---+---+---+---+---+\n",
      "|   |   |   |   |   |   |   |   | 5\n",
      "+---+---+---+---+---+---+---+---+\n",
      "|   |   |   |   |   |   |   |   | 4\n",
      "+---+---+---+---+---+---+---+---+\n",
      "|   |   |   |   |   |   |   |   | 3\n",
      "+---+---+---+---+---+---+---+---+\n",
      "| P | P | P | P | P | P | P | P | 2\n",
      "+---+---+---+---+---+---+---+---+\n",
      "| R | N | B | Q | K | B | N | R | 1\n",
      "+---+---+---+---+---+---+---+---+\n",
      "  a   b   c   d   e   f   g   h\n",
      "\n"
     ]
    }
   ],
   "source": [
    "print(stockfish.get_board_visual())"
   ]
  },
  {
   "cell_type": "code",
   "execution_count": 11,
   "id": "68c04509",
   "metadata": {},
   "outputs": [],
   "source": [
    "stockfish.make_moves_from_current_position([\"e2e4\"])"
   ]
  },
  {
   "cell_type": "code",
   "execution_count": 12,
   "id": "253a174d",
   "metadata": {},
   "outputs": [
    {
     "name": "stdout",
     "output_type": "stream",
     "text": [
      "+---+---+---+---+---+---+---+---+\n",
      "| r | n | b | q | k | b | n | r | 8\n",
      "+---+---+---+---+---+---+---+---+\n",
      "| p | p | p | p | p | p | p | p | 7\n",
      "+---+---+---+---+---+---+---+---+\n",
      "|   |   |   |   |   |   |   |   | 6\n",
      "+---+---+---+---+---+---+---+---+\n",
      "|   |   |   |   |   |   |   |   | 5\n",
      "+---+---+---+---+---+---+---+---+\n",
      "|   |   |   |   | P |   |   |   | 4\n",
      "+---+---+---+---+---+---+---+---+\n",
      "|   |   |   |   |   |   |   |   | 3\n",
      "+---+---+---+---+---+---+---+---+\n",
      "| P | P | P | P |   | P | P | P | 2\n",
      "+---+---+---+---+---+---+---+---+\n",
      "| R | N | B | Q | K | B | N | R | 1\n",
      "+---+---+---+---+---+---+---+---+\n",
      "  a   b   c   d   e   f   g   h\n",
      "\n"
     ]
    }
   ],
   "source": [
    "print(stockfish.get_board_visual())"
   ]
  },
  {
   "cell_type": "code",
   "execution_count": 14,
   "id": "315ddcb4",
   "metadata": {},
   "outputs": [
    {
     "data": {
      "text/plain": [
       "'c7c5'"
      ]
     },
     "execution_count": 14,
     "metadata": {},
     "output_type": "execute_result"
    }
   ],
   "source": [
    "stockfish.get_best_move()"
   ]
  },
  {
   "cell_type": "code",
   "execution_count": 15,
   "id": "bcb204e1",
   "metadata": {},
   "outputs": [
    {
     "name": "stdout",
     "output_type": "stream",
     "text": [
      "+---+---+---+---+---+---+---+---+\n",
      "| r | n | b | q | k | b | n | r | 8\n",
      "+---+---+---+---+---+---+---+---+\n",
      "| p | p |   | p | p | p | p | p | 7\n",
      "+---+---+---+---+---+---+---+---+\n",
      "|   |   |   |   |   |   |   |   | 6\n",
      "+---+---+---+---+---+---+---+---+\n",
      "|   |   | p |   |   |   |   |   | 5\n",
      "+---+---+---+---+---+---+---+---+\n",
      "|   |   |   |   | P |   |   |   | 4\n",
      "+---+---+---+---+---+---+---+---+\n",
      "|   |   |   |   |   |   |   |   | 3\n",
      "+---+---+---+---+---+---+---+---+\n",
      "| P | P | P | P |   | P | P | P | 2\n",
      "+---+---+---+---+---+---+---+---+\n",
      "| R | N | B | Q | K | B | N | R | 1\n",
      "+---+---+---+---+---+---+---+---+\n",
      "  a   b   c   d   e   f   g   h\n",
      "\n"
     ]
    }
   ],
   "source": [
    "stockfish.make_moves_from_current_position([\"c7c5\"])\n",
    "print(stockfish.get_board_visual())"
   ]
  },
  {
   "cell_type": "markdown",
   "id": "6b7a3f35",
   "metadata": {},
   "source": [
    "# engine with board"
   ]
  },
  {
   "cell_type": "code",
   "execution_count": 1,
   "id": "25dbe640",
   "metadata": {},
   "outputs": [
    {
     "name": "stdout",
     "output_type": "stream",
     "text": [
      "Collecting chess\n",
      "  Downloading chess-1.10.0-py3-none-any.whl (154 kB)\n",
      "\u001b[2K     \u001b[90m━━━━━━━━━━━━━━━━━━━━━━━━━━━━━━━━━━━━━━━\u001b[0m \u001b[32m154.4/154.4 kB\u001b[0m \u001b[31m1.6 MB/s\u001b[0m eta \u001b[36m0:00:00\u001b[0ma \u001b[36m0:00:01\u001b[0m\n",
      "\u001b[?25hInstalling collected packages: chess\n",
      "Successfully installed chess-1.10.0\n",
      "\u001b[33mWARNING: Running pip as the 'root' user can result in broken permissions and conflicting behaviour with the system package manager. It is recommended to use a virtual environment instead: https://pip.pypa.io/warnings/venv\u001b[0m\u001b[33m\n",
      "\u001b[0m\n",
      "\u001b[1m[\u001b[0m\u001b[34;49mnotice\u001b[0m\u001b[1;39;49m]\u001b[0m\u001b[39;49m A new release of pip is available: \u001b[0m\u001b[31;49m23.0.1\u001b[0m\u001b[39;49m -> \u001b[0m\u001b[32;49m24.0\u001b[0m\n",
      "\u001b[1m[\u001b[0m\u001b[34;49mnotice\u001b[0m\u001b[1;39;49m]\u001b[0m\u001b[39;49m To update, run: \u001b[0m\u001b[32;49mpip install --upgrade pip\u001b[0m\n"
     ]
    }
   ],
   "source": [
    "!pip install chess"
   ]
  },
  {
   "cell_type": "code",
   "execution_count": 2,
   "id": "cf0071aa",
   "metadata": {},
   "outputs": [],
   "source": [
    "import chess\n",
    "import chess.engine"
   ]
  },
  {
   "cell_type": "code",
   "execution_count": 15,
   "id": "98b9d4ab",
   "metadata": {
    "scrolled": false
   },
   "outputs": [
    {
     "name": "stdout",
     "output_type": "stream",
     "text": [
      "Stockfish chess engine loaded. Using for Cognitive AI\n",
      "======================================================\n",
      "e2e4\n",
      "c7c5\n",
      "g1f3\n",
      "d7d6\n",
      "d2d4\n",
      "c5d4\n",
      "f3d4\n",
      "g8f6\n",
      "b1c3\n",
      "a7a6\n",
      "c1e3\n",
      "e7e5\n",
      "d4b3\n",
      "f6g4\n",
      "e3d2\n",
      "g4f6\n",
      "f1c4\n",
      "f8e7\n",
      "c3d5\n",
      "b8c6\n",
      "a2a3\n",
      "e8g8\n",
      "d1e2\n",
      "c8e6\n",
      "h2h4\n",
      "a6a5\n",
      "d2c3\n",
      "a8c8\n",
      "e1c1\n",
      "a5a4\n",
      "b3d2\n",
      "b7b5\n",
      "d5e7\n",
      "d8e7\n",
      "c4b5\n",
      "c6a7\n",
      "b5a4\n",
      "c8c3\n",
      "b2c3\n",
      "d6d5\n",
      "d2b1\n",
      "f6e4\n",
      "a4b3\n",
      "f8c8\n",
      "h1e1\n",
      "e4c3\n",
      "b1c3\n",
      "e7a3\n",
      "c1b1\n",
      "e6f5\n",
      "d1d3\n",
      "a7c6\n",
      "c3b5\n",
      "a3b4\n",
      "d3c3\n",
      "h7h6\n",
      "b1c1\n",
      "f5e6\n",
      "e2f1\n",
      "c8a8\n",
      "c3c6\n",
      "e6d7\n",
      "b5c3\n",
      "d7c6\n",
      "c3a2\n",
      "b4a3\n",
      "c1b1\n",
      "c6a4\n",
      "f1d3\n",
      "a4b3\n",
      "d3b3\n",
      "a3d6\n",
      "b1c1\n",
      "e5e4\n",
      "c1d1\n",
      "d6f6\n",
      "a2c1\n",
      "f6f2\n",
      "b3d5\n",
      "a8e8\n",
      "h4h5\n",
      "f2g2\n",
      "c2c4\n",
      "g8h8\n",
      "e1e2\n",
      "g2f3\n",
      "d5c6\n",
      "e8e5\n",
      "c6d7\n",
      "f3h5\n",
      "d1c2\n",
      "h5g6\n",
      "d7d8\n",
      "h8h7\n",
      "c1a2\n",
      "f7f5\n",
      "d8d4\n",
      "e5e6\n",
      "a2c3\n",
      "f5f4\n",
      "e2e4\n",
      "f4f3\n",
      "c2d3\n",
      "g6f5\n",
      "c3d1\n",
      "e6e7\n",
      "d1e3\n",
      "f3f2\n",
      "e3f5\n",
      "f2f1q\n",
      "d3d2\n",
      "f1g2\n",
      "d2e3\n",
      "g2g5\n",
      "e3e2\n",
      "g5g4\n",
      "e2e3\n",
      "g4g5\n",
      "e3e2\n",
      "g5g4\n",
      "e2e3\n",
      "g4g5\n",
      "e3e2\n",
      "g5g4\n",
      "e2e3\n",
      "g4g5\n",
      "e3e2\n",
      "g5g4\n",
      "e2e3\n",
      "g4g5\n",
      "\n",
      "======================================================\n",
      "Game Over\n",
      "Draw due to fivefold repetition!\n"
     ]
    }
   ],
   "source": [
    "print(\"Stockfish chess engine loaded. Using for Cognitive AI\")\n",
    "print(\"======================================================\")\n",
    "board = chess.Board()\n",
    "engine = chess.engine.SimpleEngine.popen_uci(\"/app/stockfish/stockfish-ubuntu-x86-64-avx2\")\n",
    "\n",
    "while not board.is_game_over():\n",
    "    result = engine.play(board, chess.engine.Limit(time=0.1))\n",
    "    print(result.move)\n",
    "    board.push(result.move)\n",
    "\n",
    "print()\n",
    "print(\"======================================================\")\n",
    "print(\"Game Over\")\n",
    "\n",
    "# Check why the game ended\n",
    "if board.is_checkmate():\n",
    "    if board.turn == chess.WHITE:\n",
    "        print(\"Black wins by checkmate!\")\n",
    "    else:\n",
    "        print(\"White wins by checkmate!\")\n",
    "elif board.is_stalemate():\n",
    "    print(\"Stalemate!\")\n",
    "elif board.is_insufficient_material():\n",
    "    print(\"Draw due to insufficient material!\")\n",
    "elif board.is_seventyfive_moves():\n",
    "    print(\"Draw due to 75-move rule!\")\n",
    "elif board.is_fivefold_repetition():\n",
    "    print(\"Draw due to fivefold repetition!\")\n",
    "\n",
    "engine.quit()"
   ]
  }
 ],
 "metadata": {
  "kernelspec": {
   "display_name": "Python 3 (ipykernel)",
   "language": "python",
   "name": "python3"
  },
  "language_info": {
   "codemirror_mode": {
    "name": "ipython",
    "version": 3
   },
   "file_extension": ".py",
   "mimetype": "text/x-python",
   "name": "python",
   "nbconvert_exporter": "python",
   "pygments_lexer": "ipython3",
   "version": "3.8.17"
  }
 },
 "nbformat": 4,
 "nbformat_minor": 5
}
